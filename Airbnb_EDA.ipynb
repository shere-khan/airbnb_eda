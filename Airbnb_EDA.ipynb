{
 "cells": [
  {
   "cell_type": "markdown",
   "metadata": {},
   "source": [
    "Some helper functions."
   ]
  },
  {
   "cell_type": "code",
   "execution_count": 1,
   "metadata": {
    "pycharm": {
     "name": "#%%\n"
    }
   },
   "outputs": [],
   "source": [
    "import seaborn as sns\n",
    "from matplotlib import pyplot as plt\n",
    "from pathlib import Path\n",
    "import pandas as pd\n",
    "import os\n",
    "\n",
    "from IPython.display import display, HTML\n",
    "\n",
    "def load_data(dir):\n",
    "    path = os.walk(dir)\n",
    "    dfs = []\n",
    "    for root, directories, files in path:\n",
    "        for file in files:\n",
    "            if root.split(\"/\")[-1] != \"summary\":\n",
    "                if file.split(\".\")[0] == \"listings\":\n",
    "                    f = Path(root) / file\n",
    "                    dfs.append(pd.read_csv(f))\n",
    "    df = pd.concat(dfs)\n",
    "    return df\n",
    "\n",
    "def get_list_from_text(path):\n",
    "    with Path(path).open(\"r\") as f:\n",
    "        valid = f.readlines()\n",
    "        valid = set(map(lambda x: x.replace(\"\\n\", \"\"), valid))\n",
    "    return valid\n",
    "\n",
    "def keep_cols(df, path):\n",
    "    cols = get_list_from_text(path)\n",
    "    df = df[cols]\n",
    "    return df"
   ]
  },
  {
   "cell_type": "markdown",
   "source": [
    "Load Data."
   ],
   "metadata": {
    "collapsed": false
   }
  },
  {
   "cell_type": "code",
   "execution_count": 2,
   "outputs": [
    {
     "name": "stderr",
     "output_type": "stream",
     "text": [
      "/home/justin/pycharmprojects/airbnb_eda/venv/lib/python3.6/site-packages/IPython/core/interactiveshell.py:3263: DtypeWarning: Columns (43,94) have mixed types.Specify dtype option on import or set low_memory=False.\n",
      "  if (await self.run_code(code, result,  async_=asy)):\n",
      "/home/justin/pycharmprojects/airbnb_eda/venv/lib/python3.6/site-packages/IPython/core/interactiveshell.py:3263: DtypeWarning: Columns (43,61,62,94) have mixed types.Specify dtype option on import or set low_memory=False.\n",
      "  if (await self.run_code(code, result,  async_=asy)):\n"
     ]
    }
   ],
   "source": [
    "path = \"data\"\n",
    "df = load_data(path)"
   ],
   "metadata": {
    "collapsed": false,
    "pycharm": {
     "name": "#%%\n"
    }
   }
  },
  {
   "cell_type": "markdown",
   "source": [
    "Plot correlations."
   ],
   "metadata": {
    "collapsed": false,
    "pycharm": {
     "name": "#%% md\n"
    }
   }
  },
  {
   "cell_type": "code",
   "execution_count": 3,
   "outputs": [
    {
     "ename": "ModuleNotFoundError",
     "evalue": "No module named 'heatmap'",
     "output_type": "error",
     "traceback": [
      "\u001B[0;31m---------------------------------------------------------------------------\u001B[0m",
      "\u001B[0;31mModuleNotFoundError\u001B[0m                       Traceback (most recent call last)",
      "\u001B[0;32m<ipython-input-3-fb0c9991370c>\u001B[0m in \u001B[0;36m<module>\u001B[0;34m\u001B[0m\n\u001B[0;32m----> 1\u001B[0;31m \u001B[0;32mfrom\u001B[0m \u001B[0mheatmap\u001B[0m \u001B[0;32mimport\u001B[0m \u001B[0mheatmap\u001B[0m\u001B[0;34m,\u001B[0m \u001B[0mcorrplot\u001B[0m\u001B[0;34m\u001B[0m\u001B[0;34m\u001B[0m\u001B[0m\n\u001B[0m\u001B[1;32m      2\u001B[0m \u001B[0;34m\u001B[0m\u001B[0m\n\u001B[1;32m      3\u001B[0m \u001B[0;31m# def plot_corrs(df):\u001B[0m\u001B[0;34m\u001B[0m\u001B[0;34m\u001B[0m\u001B[0;34m\u001B[0m\u001B[0m\n\u001B[1;32m      4\u001B[0m     \u001B[0;31m# Correlation plot.\u001B[0m\u001B[0;34m\u001B[0m\u001B[0;34m\u001B[0m\u001B[0;34m\u001B[0m\u001B[0m\n\u001B[1;32m      5\u001B[0m     \u001B[0;31m# df = keep_cols(df, \"doc/columns/corrplot.txt\")\u001B[0m\u001B[0;34m\u001B[0m\u001B[0;34m\u001B[0m\u001B[0;34m\u001B[0m\u001B[0m\n",
      "\u001B[0;31mModuleNotFoundError\u001B[0m: No module named 'heatmap'"
     ]
    }
   ],
   "source": [
    "from heatmap import heatmap, corrplot\n",
    "\n",
    "# def plot_corrs(df):\n",
    "    # Correlation plot.\n",
    "    # df = keep_cols(df, \"doc/columns/corrplot.txt\")\n",
    "    # plt.figure(figsize=(20, 20))\n",
    "    # heat_map = sns.heatmap(df.corr())\n",
    "    # plt.show()\n",
    "    \n",
    "# Plot correlation map.\n",
    "# plot_corrs(df)\n",
    "\n",
    "df = keep_cols(df, \"doc/columns/corrplot.txt\")\n",
    "plt.figure(figsize=(15, 15))\n",
    "corrplot(df.corr())"
   ],
   "metadata": {
    "collapsed": false,
    "pycharm": {
     "name": "#%%\n"
    }
   }
  },
  {
   "cell_type": "markdown",
   "source": [
    "Plot Data vs Number of listings.\n",
    "Did the number of listings decrease at all after the emergence of covid-19?"
   ],
   "metadata": {
    "collapsed": false,
    "pycharm": {
     "name": "#%% md\n"
    }
   }
  },
  {
   "cell_type": "code",
   "execution_count": null,
   "outputs": [],
   "source": [
    "def date_x_num_listings(df):\n",
    "    # Filter out junk dates.\n",
    "    date_path = \"doc/dates/valid_dates.txt\"\n",
    "    dates = get_list_from_text(date_path)\n",
    "    df = df[df[\"last_scraped\"].isin(dates)]\n",
    "\n",
    "    # Group by date and plot num of listings by date.\n",
    "    df_ = df.groupby(\"last_scraped\").agg({\"id\": \"count\"})\n",
    "    df_ = df_.reset_index()\n",
    "    plt.figure(figsize=(20, 10))\n",
    "    sns.lineplot(data=df_, x=\"last_scraped\", y=\"id\")\n",
    "    plt.show()\n",
    "\n",
    "# Date vs number of listings. Did number of listings decrease after shutdown?\n",
    "date_x_num_listings(df)"
   ],
   "metadata": {
    "collapsed": false,
    "pycharm": {
     "name": "#%%\n"
    }
   }
  }
 ],
 "metadata": {
  "kernelspec": {
   "display_name": "Python 3",
   "language": "python",
   "name": "python3"
  },
  "language_info": {
   "codemirror_mode": {
    "name": "ipython",
    "version": 3
   },
   "file_extension": ".py",
   "mimetype": "text/x-python",
   "name": "python",
   "nbconvert_exporter": "python",
   "pygments_lexer": "ipython3",
   "version": "3.6.9"
  },
  "pycharm": {
   "stem_cell": {
    "cell_type": "raw",
    "source": [],
    "metadata": {
     "collapsed": false
    }
   }
  }
 },
 "nbformat": 4,
 "nbformat_minor": 4
}